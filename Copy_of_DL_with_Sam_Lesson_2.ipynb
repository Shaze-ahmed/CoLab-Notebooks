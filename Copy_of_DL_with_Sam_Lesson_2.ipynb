{
  "nbformat": 4,
  "nbformat_minor": 0,
  "metadata": {
    "colab": {
      "name": "Copy of DL_with_Sam_Lesson_1.ipynb",
      "provenance": [],
      "collapsed_sections": [
        "rYMtREVH7qFo",
        "p-84YKJVLlI7",
        "GxKDI_pOE5zP",
        "35QUCbYXFlCw",
        "hv50HPUdGyMW",
        "UU3Kfi3OHl4W",
        "02KMG-H9RGAV"
      ],
      "toc_visible": true,
      "include_colab_link": true
    },
    "kernelspec": {
      "name": "python3",
      "display_name": "Python 3"
    },
    "language_info": {
      "name": "python"
    }
  },
  "cells": [
    {
      "cell_type": "markdown",
      "metadata": {
        "id": "view-in-github",
        "colab_type": "text"
      },
      "source": [
        "<a href=\"https://colab.research.google.com/github/Shaze-ahmed/CoLab-Notebooks/blob/main/Copy_of_DL_with_Sam_Lesson_2.ipynb\" target=\"_parent\"><img src=\"https://colab.research.google.com/assets/colab-badge.svg\" alt=\"Open In Colab\"/></a>"
      ]
    },
    {
      "cell_type": "markdown",
      "source": [
        "### Deep Learning with Sam Faraday - from Zero to Hero - Lesson 1\n",
        "\n",
        "# Downloading Images and Working with the Operating System\n"
      ],
      "metadata": {
        "id": "rYMtREVH7qFo"
      }
    },
    {
      "cell_type": "markdown",
      "source": [
        "# Note\n",
        "\n",
        "In case you'd like to run the whole notebook from start, first go to Runtime --> Disconnect and Delete Runtime\n",
        "\n",
        "All folders and files will be deleted, then run each cell again\n",
        "\n",
        "Select the Files icon to left to see the Directories\n",
        "\n",
        "Use the Refresh Button whenever you create or delete any object\n",
        "\n",
        "**Linux** does not allow to delete a directory that contains any object, that's why it is easier to disconnect and  Delete Runtime."
      ],
      "metadata": {
        "id": "p-84YKJVLlI7"
      }
    },
    {
      "cell_type": "markdown",
      "source": [
        "# 1. Create Working Folders\n",
        "\n",
        "! is used to run Linux Commands in Google Colab\n",
        "\n",
        "mkdir - makes/ creates a directory"
      ],
      "metadata": {
        "id": "GxKDI_pOE5zP"
      }
    },
    {
      "cell_type": "code",
      "source": [
        "!mkdir TF_images_lab"
      ],
      "metadata": {
        "id": "3R9iFfGMDKSQ"
      },
      "execution_count": 14,
      "outputs": []
    },
    {
      "cell_type": "code",
      "source": [
        "!mkdir TF_images_lab/c2"
      ],
      "metadata": {
        "id": "mQoQYE5uDXMh"
      },
      "execution_count": 15,
      "outputs": []
    },
    {
      "cell_type": "code",
      "source": [
        "!mkdir TF_images_lab/c2/images"
      ],
      "metadata": {
        "id": "9aRKQ9AVET6h"
      },
      "execution_count": 16,
      "outputs": []
    },
    {
      "cell_type": "markdown",
      "source": [
        "# 2. Install and Import Working Libraries"
      ],
      "metadata": {
        "id": "35QUCbYXFlCw"
      }
    },
    {
      "cell_type": "code",
      "execution_count": 1,
      "metadata": {
        "id": "zjMF1ruw7jPl"
      },
      "outputs": [],
      "source": [
        "# os - Operating System - It allows you to run os commands\n",
        "# it is usually install with Python default installation\n",
        "import os"
      ]
    },
    {
      "cell_type": "code",
      "source": [
        "# pip is a command to install Python Libraries"
      ],
      "metadata": {
        "id": "uGx6FrgxGFP-"
      },
      "execution_count": null,
      "outputs": []
    },
    {
      "cell_type": "code",
      "source": [
        "# wget - it downloads files from the web"
      ],
      "metadata": {
        "id": "O1hY7ZyOI88W"
      },
      "execution_count": null,
      "outputs": []
    },
    {
      "cell_type": "code",
      "source": [
        "pip install wget"
      ],
      "metadata": {
        "colab": {
          "base_uri": "https://localhost:8080/"
        },
        "id": "dpRzx_mMGY9l",
        "outputId": "860c130a-8a62-4d8b-e80a-6c59fe1890c1"
      },
      "execution_count": 8,
      "outputs": [
        {
          "output_type": "stream",
          "name": "stdout",
          "text": [
            "Looking in indexes: https://pypi.org/simple, https://us-python.pkg.dev/colab-wheels/public/simple/\n",
            "Collecting wget\n",
            "  Downloading wget-3.2.zip (10 kB)\n",
            "Building wheels for collected packages: wget\n",
            "  Building wheel for wget (setup.py) ... \u001b[?25l\u001b[?25hdone\n",
            "  Created wheel for wget: filename=wget-3.2-py3-none-any.whl size=9675 sha256=026a459c8bc6f81a872f3ebe37a8af9d8fb37e054201cd2c2c61e7d4b3233103\n",
            "  Stored in directory: /root/.cache/pip/wheels/a1/b6/7c/0e63e34eb06634181c63adacca38b79ff8f35c37e3c13e3c02\n",
            "Successfully built wget\n",
            "Installing collected packages: wget\n",
            "Successfully installed wget-3.2\n"
          ]
        }
      ]
    },
    {
      "cell_type": "code",
      "source": [
        "import wget"
      ],
      "metadata": {
        "id": "E-eqfpbXF1OO"
      },
      "execution_count": 9,
      "outputs": []
    },
    {
      "cell_type": "code",
      "source": [
        "# zipfile - Lib to zip and unzip files\n",
        "from zipfile import ZipFile"
      ],
      "metadata": {
        "id": "K1hkJOUqH_zU"
      },
      "execution_count": 10,
      "outputs": []
    },
    {
      "cell_type": "markdown",
      "source": [
        "# 3. Change Working Directory"
      ],
      "metadata": {
        "id": "hv50HPUdGyMW"
      }
    },
    {
      "cell_type": "code",
      "source": [
        "# Get the Current Working Directory\n",
        "os.getcwd()"
      ],
      "metadata": {
        "colab": {
          "base_uri": "https://localhost:8080/",
          "height": 0
        },
        "id": "kxy903_DFS6z",
        "outputId": "334d99d9-0a84-45ae-c778-47ca26022735"
      },
      "execution_count": 13,
      "outputs": [
        {
          "output_type": "execute_result",
          "data": {
            "text/plain": [
              "'/content'"
            ],
            "application/vnd.google.colaboratory.intrinsic+json": {
              "type": "string"
            }
          },
          "metadata": {},
          "execution_count": 13
        }
      ]
    },
    {
      "cell_type": "code",
      "source": [
        "# Change Directory \n",
        "os.chdir(\"/content/TF_images_lab/c2\")"
      ],
      "metadata": {
        "id": "9vfB5L6BFWBE"
      },
      "execution_count": 17,
      "outputs": []
    },
    {
      "cell_type": "code",
      "source": [
        "# Get the Current Working Directory\n",
        "os.getcwd()"
      ],
      "metadata": {
        "colab": {
          "base_uri": "https://localhost:8080/",
          "height": 0
        },
        "id": "Zx2QVBHbHPAj",
        "outputId": "ada7af0d-52f5-4a6d-ab84-f29c8c780492"
      },
      "execution_count": 18,
      "outputs": [
        {
          "output_type": "execute_result",
          "data": {
            "text/plain": [
              "'/content/TF_images_lab/c2'"
            ],
            "application/vnd.google.colaboratory.intrinsic+json": {
              "type": "string"
            }
          },
          "metadata": {},
          "execution_count": 18
        }
      ]
    },
    {
      "cell_type": "markdown",
      "source": [
        "# 4. Create a function to download and unzip the images files"
      ],
      "metadata": {
        "id": "UU3Kfi3OHl4W"
      }
    },
    {
      "cell_type": "code",
      "source": [
        "# wget.download(\"file url\", out=\"folder and file name\")\n",
        "def download_and_unzip_files():\n",
        "    print(\"Downloading Images\")\n",
        "    wget.download(\"https://download.microsoft.com/download/3/E/1/3E1C3F21-ECDB-4869-8368-6DEBA77B919F/kagglecatsanddogs_5340.zip\",\n",
        "                  out=\"./images/cats-and-dogs.zip\")\n",
        "\n",
        "    \n",
        "    print(\"Unzipping files\")\n",
        "    with ZipFile('./images/cats-and-dogs.zip', 'r') as zipObject:\n",
        "        listOfFileNames = zipObject.namelist() # creates a list (listOfFileNames) and and the files names  retrived with zipObject.namelist()\n",
        "        for fileName in listOfFileNames:  # then iterate over the list to get the file names\n",
        "            if fileName.startswith(\"PetImages\"): # check it is PetImages as there are other files we do not need to unzip\n",
        "                zipObject.extract(fileName, \"./images\") # if so, download it to the folder images\n",
        "\n"
      ],
      "metadata": {
        "id": "a7SsTlJbHmU0"
      },
      "execution_count": 19,
      "outputs": []
    },
    {
      "cell_type": "markdown",
      "source": [
        ""
      ],
      "metadata": {
        "id": "BSft4081ITDI"
      }
    },
    {
      "cell_type": "code",
      "source": [
        "# run the function created above, then check the folders to the left. Click the Refresh Button\n",
        "download_and_unzip_files() "
      ],
      "metadata": {
        "colab": {
          "base_uri": "https://localhost:8080/"
        },
        "id": "7YNv3NSWHsms",
        "outputId": "46284c41-9c6f-471a-9000-5859716e6422"
      },
      "execution_count": 20,
      "outputs": [
        {
          "output_type": "stream",
          "name": "stdout",
          "text": [
            "Downloading Images\n",
            "Unzipping files\n"
          ]
        }
      ]
    },
    {
      "cell_type": "markdown",
      "source": [
        "# 5. Listing Directories Contents\n",
        "\n",
        "os.listdir - creates a list of the files in the directory"
      ],
      "metadata": {
        "id": "02KMG-H9RGAV"
      }
    },
    {
      "cell_type": "code",
      "source": [
        "# create a list containing of the objects in a specific directory\n",
        "my_directory_list_var = os.listdir(\"/content/TF_images_lab/c2/images\")"
      ],
      "metadata": {
        "id": "J5w2-eWcRGI0"
      },
      "execution_count": 21,
      "outputs": []
    },
    {
      "cell_type": "code",
      "source": [
        "# print the list\n",
        "print(my_directory_list_var)"
      ],
      "metadata": {
        "colab": {
          "base_uri": "https://localhost:8080/"
        },
        "id": "kR1JyTozSaKj",
        "outputId": "67634b8f-5bd6-464b-c84a-7d2f5998ece5"
      },
      "execution_count": 22,
      "outputs": [
        {
          "output_type": "stream",
          "name": "stdout",
          "text": [
            "['PetImages', 'cats-and-dogs.zip']\n"
          ]
        }
      ]
    },
    {
      "cell_type": "code",
      "source": [
        "# iterate through the list, printing each object name\n",
        "for x in my_directory_list_var:\n",
        "  print(x)"
      ],
      "metadata": {
        "colab": {
          "base_uri": "https://localhost:8080/"
        },
        "id": "Z3irzszqTG_0",
        "outputId": "86d63972-345a-4595-b3da-e31d82c55771"
      },
      "execution_count": 23,
      "outputs": [
        {
          "output_type": "stream",
          "name": "stdout",
          "text": [
            "PetImages\n",
            "cats-and-dogs.zip\n"
          ]
        }
      ]
    },
    {
      "cell_type": "markdown",
      "source": [
        "# Homework"
      ],
      "metadata": {
        "id": "9nkHO1OSUR2y"
      }
    },
    {
      "cell_type": "code",
      "source": [
        "# now it is your turn. Please print the first 10 objects in the /content/TF_images_lab/c2/images/PetImages/Cat directory\n",
        "\n",
        "# create a counter, then increment it\n",
        "\n",
        "# then check if it is bigger than 10, if so, break the loop"
      ],
      "metadata": {
        "id": "erJG0ac-Tr6y"
      },
      "execution_count": 24,
      "outputs": []
    },
    {
      "cell_type": "code",
      "source": [
        "# create a counter, then increment it\n",
        "path = \"/content/TF_images_lab/c2/images/PetImages/Cat\"\n",
        "# list create the list\n",
        "my_directory_list_var = os.listdir(path)\n",
        "i = 0\n",
        "# iterate\n",
        "for x  in my_directory_list_var:\n",
        "  # increment the counter\n",
        "  i += 1\n",
        "  # check if it is bigger than 10\n",
        "  if i > 10:\n",
        "    break\n",
        "  # if so, break the loop\n",
        "  \n",
        "  print(i, x)"
      ],
      "metadata": {
        "id": "NhZl0cVUUVjK",
        "colab": {
          "base_uri": "https://localhost:8080/"
        },
        "outputId": "6a0ca7ba-117c-41c0-e88d-4dcff0c2a8ff"
      },
      "execution_count": 25,
      "outputs": [
        {
          "output_type": "stream",
          "name": "stdout",
          "text": [
            "1 12012.jpg\n",
            "2 2183.jpg\n",
            "3 9252.jpg\n",
            "4 9350.jpg\n",
            "5 8015.jpg\n",
            "6 7113.jpg\n",
            "7 2199.jpg\n",
            "8 700.jpg\n",
            "9 4114.jpg\n",
            "10 8144.jpg\n"
          ]
        }
      ]
    },
    {
      "cell_type": "code",
      "source": [
        ""
      ],
      "metadata": {
        "id": "6FDtaXg-QY1u"
      },
      "execution_count": null,
      "outputs": []
    },
    {
      "cell_type": "code",
      "source": [
        ""
      ],
      "metadata": {
        "id": "MmtHApFMQZOD"
      },
      "execution_count": null,
      "outputs": []
    },
    {
      "cell_type": "code",
      "source": [
        "os.chdir(\"/content/\")\n",
        "!mkdir my_images_directory\n",
        "!mkdir my_images_directory/images\n",
        "os.chdir(\"my_images_directory\")\n",
        "os.getcwd()"
      ],
      "metadata": {
        "colab": {
          "base_uri": "https://localhost:8080/",
          "height": 35
        },
        "id": "afPOReS_H8Fg",
        "outputId": "2af3ca52-59b5-486d-8fdf-910760b54153"
      },
      "execution_count": 37,
      "outputs": [
        {
          "output_type": "execute_result",
          "data": {
            "text/plain": [
              "'/content/my_images_directory'"
            ],
            "application/vnd.google.colaboratory.intrinsic+json": {
              "type": "string"
            }
          },
          "metadata": {},
          "execution_count": 37
        }
      ]
    },
    {
      "cell_type": "code",
      "source": [
        "def download_and_unzip_files():\n",
        "    print(\"Downloading Images\")\n",
        "    wget.download(\"https://storage.googleapis.com/tensorflow-1-public/course2/cats_and_dogs_filtered.zip\",\n",
        "                  out=\"./images/cats_and_dogs_filtered.zip\")\n",
        "    print(\"Unzipping files\")\n",
        "    with ZipFile('./images/cats_and_dogs_filtered.zip', 'r') as zipObject:\n",
        "        listOfFileNames = zipObject.namelist() # creates a list (listOfFileNames) and and the files names  retrived with zipObject.namelist()\n",
        "        for fileName in listOfFileNames:  # then iterate over the list to get the file names\n",
        "            zipObject.extract(fileName, \"./images\") # if so, download it to the folder images\n",
        "download_and_unzip_files() "
      ],
      "metadata": {
        "colab": {
          "base_uri": "https://localhost:8080/"
        },
        "id": "lPM7CM9iIjZa",
        "outputId": "1bfa4610-3838-40df-a24d-81fb74abade0"
      },
      "execution_count": 41,
      "outputs": [
        {
          "output_type": "stream",
          "name": "stdout",
          "text": [
            "Downloading Images\n",
            "Unzipping files\n"
          ]
        }
      ]
    },
    {
      "cell_type": "code",
      "source": [
        "base_path = \"./images/cats_and_dogs_filtered\"\n",
        "for (curr_dir, sub_dir, files) in os.walk(base_path):\n",
        "  for file in files:\n",
        "    fname, fext = os.path.splitext(file)\n",
        "    if fext.casefold() != \".jpg\":\n",
        "      print(curr_dir, fext)\n",
        "      print(file)\n",
        "      os.remove(os.path.join(curr_dir, file))"
      ],
      "metadata": {
        "colab": {
          "base_uri": "https://localhost:8080/"
        },
        "id": "9dhfsFgVNLpc",
        "outputId": "7bf83c62-11c0-4a3d-bf19-75c5f3f06609"
      },
      "execution_count": 47,
      "outputs": [
        {
          "output_type": "stream",
          "name": "stdout",
          "text": [
            "./images/cats_and_dogs_filtered .py\n",
            "vectorize.py\n"
          ]
        }
      ]
    },
    {
      "cell_type": "code",
      "source": [
        ""
      ],
      "metadata": {
        "id": "q5V6ODXiPMPg"
      },
      "execution_count": null,
      "outputs": []
    }
  ]
}